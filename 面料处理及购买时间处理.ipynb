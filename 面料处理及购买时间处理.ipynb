{
 "cells": [
  {
   "cell_type": "code",
   "execution_count": 1,
   "metadata": {},
   "outputs": [],
   "source": [
    "import pandas as pd\n",
    "from datetime import date\n",
    "import numpy as np\n",
    "from dateutil.parser import parse "
   ]
  },
  {
   "cell_type": "markdown",
   "metadata": {},
   "source": [
    "购买时差处理"
   ]
  },
  {
   "cell_type": "code",
   "execution_count": 12,
   "metadata": {},
   "outputs": [],
   "source": [
    "order_data=pd.read_excel('唯衣POC.xlsx',sheet_name=0,header=0)#订单表\n",
    "item_info=pd.read_excel('唯衣POC.xlsx',sheet_name=2,header=1)#商品信息表\n",
    "item_id=pd.read_excel('唯衣POC.xlsx',sheet_name=3,header=0)#条码id表\n",
    "order_data=order_data.drop(0)\n",
    "item_id=item_id.drop(0)"
   ]
  },
  {
   "cell_type": "code",
   "execution_count": 13,
   "metadata": {},
   "outputs": [],
   "source": [
    "#得到订单商品表\n",
    "user_item=pd.merge(order_data,item_id,left_on=['订单所含商品条码ID'],right_on=['条码id'],how='left')"
   ]
  },
  {
   "cell_type": "code",
   "execution_count": 14,
   "metadata": {},
   "outputs": [],
   "source": [
    "user_item=user_item.drop(['订单总金额','订单所含商品单价','条码'],axis=1)"
   ]
  },
  {
   "cell_type": "code",
   "execution_count": 15,
   "metadata": {},
   "outputs": [],
   "source": [
    "item_info_date=item_info[['ID','款号','年份','季节']]"
   ]
  },
  {
   "cell_type": "code",
   "execution_count": 16,
   "metadata": {},
   "outputs": [],
   "source": [
    "date_map={'春装':'01','夏装':'04','秋装':'07','冬装':'10','全年':'02',np.nan:np.nan}#季节月份对应关系"
   ]
  },
  {
   "cell_type": "code",
   "execution_count": 17,
   "metadata": {},
   "outputs": [],
   "source": [
    "def date_process(item_info):    \n",
    "    if item_info['年份']!=np.NaN:                  \n",
    "            y=item_info['年份'][:4]\n",
    "            m=date_map[item_info['季节']]            \n",
    "            item_info['衣服上市时间']=pd.Period(parse(y+'-'+m),freq='M') \n",
    "    return item_info\n",
    "item_info_date=item_info_date.apply(date_process,axis=1)#计算衣服上市时间"
   ]
  },
  {
   "cell_type": "code",
   "execution_count": 18,
   "metadata": {},
   "outputs": [],
   "source": [
    "#得到订单商品信息表，包含了衣服上市时间\n",
    "order_item_info=pd.merge(user_item,item_info_date,left_on=['款号'],right_on=['款号'],how='left')"
   ]
  },
  {
   "cell_type": "code",
   "execution_count": 25,
   "metadata": {},
   "outputs": [],
   "source": [
    "#计算时差\n",
    "order_item_info['购买时差']=0\n",
    "def compute_date(df):\n",
    "    if type(df['年份'])==str:\n",
    "        x=df['订单时间']\n",
    "        date=pd.Period(parse(str(x)),freq='M')\n",
    "        df['购买时差']=date-df['衣服上市时间']\n",
    "    return df\n",
    "order_item_info=order_item_info.apply(compute_date,axis=1)"
   ]
  },
  {
   "cell_type": "code",
   "execution_count": 26,
   "metadata": {},
   "outputs": [
    {
     "data": {
      "text/plain": [
       "376126"
      ]
     },
     "execution_count": 26,
     "metadata": {},
     "output_type": "execute_result"
    }
   ],
   "source": [
    "len(order_item_info[order_item_info['购买时差']>-0])"
   ]
  },
  {
   "cell_type": "code",
   "execution_count": 68,
   "metadata": {},
   "outputs": [],
   "source": [
    " order_item_info.to_csv(\"购买时差表.csv\")"
   ]
  },
  {
   "cell_type": "markdown",
   "metadata": {},
   "source": [
    "以下为面料处理"
   ]
  },
  {
   "cell_type": "code",
   "execution_count": 34,
   "metadata": {},
   "outputs": [],
   "source": [
    "item_info_fabric=item_info[['ID','面料成分']]"
   ]
  },
  {
   "cell_type": "markdown",
   "metadata": {},
   "source": [
    "面 料：聚酯纤维100%&罗 纹：粘纤75.7%;锦纶22.2%;氨纶2.1%"
   ]
  },
  {
   "cell_type": "markdown",
   "metadata": {},
   "source": [
    "[\\u4e00-\\u9fa5]+[0-9.]+[%]#匹配正则表达式，得到'粘纤75.7%'的列表"
   ]
  },
  {
   "cell_type": "markdown",
   "metadata": {},
   "source": [
    "[\\u4e00-\\u9fa5]{1,}#中文匹配，得到里面的中文"
   ]
  },
  {
   "cell_type": "code",
   "execution_count": 35,
   "metadata": {},
   "outputs": [],
   "source": [
    "import re\n",
    "re_all = re.compile(r'[\\u4e00-\\u9fa5]+[0-9.]+[%]')#提取‘粘纤75.7%’\n",
    "re_name=re.compile(r'[\\u4e00-\\u9fa5]{1,}')#提取成分名称\n",
    "re_num=re.compile(r'[0-9.]+')#提取百分比\n",
    "def fabric_process(item_info):\n",
    "    s=item_info['面料成分']\n",
    "    if type(s)==str:        \n",
    "        list_all=re_all.findall(s)    \n",
    "        for x in list_all:        \n",
    "            name = re_name.findall(x) \n",
    "            num = re_num.findall(x) \n",
    "            item_info[name[0]]=num[0]\n",
    "    return item_info\n",
    "item_info_fabric=item_info_fabric.apply(fabric_process,axis=1)"
   ]
  },
  {
   "cell_type": "code",
   "execution_count": 30,
   "metadata": {},
   "outputs": [],
   "source": [
    "item_info_fabric.drop(['面料成分'],axis=1,inplace=True)"
   ]
  },
  {
   "cell_type": "code",
   "execution_count": 31,
   "metadata": {},
   "outputs": [],
   "source": [
    "item_info_fabric=item_info_fabric.fillna(0)"
   ]
  },
  {
   "cell_type": "code",
   "execution_count": null,
   "metadata": {},
   "outputs": [],
   "source": []
  },
  {
   "cell_type": "code",
   "execution_count": 93,
   "metadata": {},
   "outputs": [],
   "source": [
    "item_info_fabric.to_csv('面料成分解析.csv')"
   ]
  }
 ],
 "metadata": {
  "kernelspec": {
   "display_name": "Python 3",
   "language": "python",
   "name": "python3"
  },
  "language_info": {
   "codemirror_mode": {
    "name": "ipython",
    "version": 3
   },
   "file_extension": ".py",
   "mimetype": "text/x-python",
   "name": "python",
   "nbconvert_exporter": "python",
   "pygments_lexer": "ipython3",
   "version": "3.6.4"
  }
 },
 "nbformat": 4,
 "nbformat_minor": 2
}
