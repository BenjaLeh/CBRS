{
 "cells": [
  {
   "cell_type": "code",
   "execution_count": 1,
   "metadata": {},
   "outputs": [],
   "source": [
    "import pandas as pd\n",
    "import numpy as np\n",
    "import implicit as im\n",
    "from scipy.sparse import coo_matrix\n",
    "from sklearn import preprocessing"
   ]
  },
  {
   "cell_type": "code",
   "execution_count": 2,
   "metadata": {},
   "outputs": [
    {
     "name": "stdout",
     "output_type": "stream",
     "text": [
      "Index(['客户ID', '衣服单价', '衣服ID', '颜色深度', '年份', '季节', '小类号码', '颜色式样', '颜色大类',\n",
      "       '颜色名称', '大类', '中类', '品牌定义廓形', '领型', '袖长', '系列', '尺寸组', '标准价', '色温',\n",
      "       '色明度', '色纯度', '对比度', '廓形', '宽松度', '长度', '款设图-大小复杂度', '款设图-规则性',\n",
      "       '款设图-曲直', '材质-垂感', '整体曲直', '量感', '场合', '领型-形状', '领型-曲直', '领型-量感',\n",
      "       '裙型裤型'],\n",
      "      dtype='object')\n"
     ]
    }
   ],
   "source": [
    "df=pd.read_csv('dataset_1.csv')\n",
    "df=df.drop(['色相','Unnamed: 0','品名','色调','款式流水号'],axis=1)\n",
    "print(df.columns)\n",
    "from sklearn.model_selection import train_test_split\n",
    "X_train, X_test,= train_test_split(df, test_size = 0.3)"
   ]
  },
  {
   "cell_type": "code",
   "execution_count": 3,
   "metadata": {},
   "outputs": [],
   "source": [
    "def read_data_latent(filename):\n",
    "    \"\"\" Reads in the last.fm dataset, and returns a tuple of a pandas dataframe\n",
    "    and a sparse matrix of artist/user/playcount \"\"\"\n",
    "    # read in triples of user/artist/playcount from the input dataset\n",
    "    # get a model based off the input params\n",
    "    start = time.time()\n",
    "    logging.debug(\"reading data from %s\", filename)\n",
    "    data = pd.read_csv(filename,\n",
    "                             usecols=[0, 1, 2],\n",
    "                             names=['user', 'item', 'buys'],\n",
    "                             na_filter=False)\n",
    "    # map each artist and user to a unique numeric value\n",
    "    data['user'] = data['user'].astype(\"category\")#降低内存使用不会改变显示,将object对象映射为int\n",
    "    data['item'] = data['item'].astype(\"category\")\n",
    "    \n",
    "    # create a sparse matrix of all the users/plays\n",
    "    buys = coo_matrix((data['buys'].astype(np.float32),\n",
    "                       (data['item'].cat.codes.copy(),#Series.cat.codes 属性来返回 category 类型用来表示每个值的整型值\n",
    "                        data['user'].cat.codes.copy())))\n",
    "    \n",
    "    logging.debug(\"read data file in %s\", time.time() - start)\n",
    "    return data, buys"
   ]
  },
  {
   "cell_type": "code",
   "execution_count": 4,
   "metadata": {},
   "outputs": [
    {
     "name": "stderr",
     "output_type": "stream",
     "text": [
      "D:\\anaconda\\lib\\site-packages\\ipykernel_launcher.py:4: SettingWithCopyWarning: \n",
      "A value is trying to be set on a copy of a slice from a DataFrame.\n",
      "Try using .loc[row_indexer,col_indexer] = value instead\n",
      "\n",
      "See the caveats in the documentation: http://pandas.pydata.org/pandas-docs/stable/indexing.html#indexing-view-versus-copy\n",
      "  after removing the cwd from sys.path.\n",
      "WARNING:root:Intel MKL BLAS detected. Its highly recommend to set the environment variable 'export MKL_NUM_THREADS=1' to disable its internal multithreading\n"
     ]
    }
   ],
   "source": [
    "raw=X_train\n",
    "#请改成train_set\n",
    "\n",
    "raw[\"buys\"]=1\n",
    "raw.groupby([\"客户ID\",\"衣服ID\"])[\"buys\"].sum().to_csv('uib.csv')\n",
    "hot_items=X_train[\"衣服ID\"].value_counts()\n",
    "hot_items=hot_items.index\n",
    "#生成用户购买表\n",
    "\n",
    "from implicit.als import AlternatingLeastSquares as als\n",
    "import time\n",
    "import logging\n",
    "model=als(factors=40, dtype= np.float32, use_gpu= False)\n",
    "#调用als模型\n",
    "data,buys=read_data_latent('uib.csv')\n",
    "logging.debug(\"training model %s\", \"als\")\n",
    "buys = buys.tocsr()\n",
    "start = time.time()\n",
    "model.fit(buys)\n",
    "logging.debug(\"trained model '%s' in %0.2fs\", \"als\", time.time() - start)\n",
    "\n",
    "\n",
    "T='JWWC41201026'\n",
    "item_factors=model.item_factors\n",
    "\n",
    "#生成Item顺序和衣服ID的映射关系\n",
    "\n",
    "artists = dict(enumerate(data['item'].cat.categories))\n",
    "artist={artists[i]:i for i in artists}\n"
   ]
  },
  {
   "cell_type": "code",
   "execution_count": 5,
   "metadata": {},
   "outputs": [
    {
     "data": {
      "text/plain": [
       "(285, 143)"
      ]
     },
     "execution_count": 5,
     "metadata": {},
     "output_type": "execute_result"
    }
   ],
   "source": [
    "buys.shape"
   ]
  },
  {
   "cell_type": "code",
   "execution_count": 6,
   "metadata": {},
   "outputs": [
    {
     "data": {
      "text/plain": [
       "array([[ 0.02173986,  0.02166602,  0.00439817, ...,  0.02700594,\n",
       "        -0.02245905,  0.00270304],\n",
       "       [ 0.00530102, -0.00052387,  0.04038437, ...,  0.10605805,\n",
       "        -0.08482912, -0.01631423],\n",
       "       [-0.09432297,  0.06441087,  0.0265511 , ...,  0.06031375,\n",
       "        -0.02009629,  0.02895735],\n",
       "       ...,\n",
       "       [-0.00934038,  0.04282898, -0.04337749, ..., -0.02423061,\n",
       "        -0.05753578, -0.0550958 ],\n",
       "       [-0.00703733,  0.01125997,  0.02780131, ...,  0.05502462,\n",
       "        -0.0152658 , -0.04656406],\n",
       "       [-0.07128552, -0.08511844,  0.01543678, ..., -0.01221802,\n",
       "         0.10437804,  0.00292434]], dtype=float32)"
      ]
     },
     "execution_count": 6,
     "metadata": {},
     "output_type": "execute_result"
    }
   ],
   "source": [
    "item_factors"
   ]
  },
  {
   "cell_type": "code",
   "execution_count": 7,
   "metadata": {},
   "outputs": [
    {
     "data": {
      "text/plain": [
       "285"
      ]
     },
     "execution_count": 7,
     "metadata": {},
     "output_type": "execute_result"
    }
   ],
   "source": [
    "itemID1=[];\n",
    "for i in range(item_factors.shape[0]):\n",
    "    itemID1.append(artists[i])\n",
    "len(itemID1)"
   ]
  },
  {
   "cell_type": "code",
   "execution_count": 8,
   "metadata": {},
   "outputs": [],
   "source": [
    "from sklearn import preprocessing\n",
    "min_max_scaler = preprocessing.MinMaxScaler()\n",
    "#item_factors = min_max_scaler.fit_transform(item_factors)\n",
    "#item_factors = preprocessing.normalize(item_factors, norm='l2')#L2正则化\n",
    "pd_item_factor=pd.DataFrame(item_factors,index=itemID1)"
   ]
  },
  {
   "cell_type": "code",
   "execution_count": 9,
   "metadata": {},
   "outputs": [],
   "source": [
    "item_features=pd.read_csv('item_feature.csv')\n",
    "item_features.index=item_features['衣服ID']\n",
    "item_features=item_features.drop(['衣服ID'],axis=1)"
   ]
  },
  {
   "cell_type": "code",
   "execution_count": 10,
   "metadata": {},
   "outputs": [],
   "source": [
    "a=1\n",
    "b=0.2\n",
    "fillnum=0.1"
   ]
  },
  {
   "cell_type": "code",
   "execution_count": 11,
   "metadata": {},
   "outputs": [],
   "source": [
    "itemID=item_features.index\n",
    "#item_features = min_max_scaler.fit_transform(item_features)\n",
    "#item_features=preprocessing.normalize(item_features, norm='l2')\n",
    "item_features =pd.DataFrame(item_features,index=itemID)\n",
    "item_features=pd.merge(item_features*a,pd_item_factor*b, how='left',right_index=True,left_index=True)\n",
    "item_features=item_features.fillna(fillnum)"
   ]
  },
  {
   "cell_type": "code",
   "execution_count": 12,
   "metadata": {},
   "outputs": [],
   "source": [
    "itemID=item_features.index\n",
    "item_matrix=item_features.as_matrix(columns=None)\n",
    "item_ID={}\n",
    "for i in range(len(itemID)):\n",
    "    item_ID[itemID[i]]=i"
   ]
  },
  {
   "cell_type": "code",
   "execution_count": 13,
   "metadata": {},
   "outputs": [],
   "source": [
    "userset=list(set(data['user']))\n",
    "\n",
    "user_ID={}\n",
    "for i in range(len(userset)):\n",
    "    user_ID[userset[i]]=i\n",
    "user_profile=np.zeros((len(userset),item_features.shape[1]))\n",
    "\n",
    "for user,itemid,buys in data.values:  #计算user_profile  \n",
    "    user_profile[user_ID[user]]+=item_matrix[item_ID[itemid]]*buys"
   ]
  },
  {
   "cell_type": "code",
   "execution_count": 14,
   "metadata": {},
   "outputs": [],
   "source": [
    "user_profile =preprocessing.normalize(user_profile, norm='l2')#正则化"
   ]
  },
  {
   "cell_type": "code",
   "execution_count": 15,
   "metadata": {},
   "outputs": [
    {
     "name": "stdout",
     "output_type": "stream",
     "text": [
      "(322, 337)\n",
      "(143, 337)\n"
     ]
    }
   ],
   "source": [
    "print(item_matrix.shape)\n",
    "print(user_profile.shape)"
   ]
  },
  {
   "cell_type": "code",
   "execution_count": 16,
   "metadata": {},
   "outputs": [],
   "source": [
    "scores=user_profile.dot(item_matrix.T)"
   ]
  },
  {
   "cell_type": "code",
   "execution_count": 17,
   "metadata": {},
   "outputs": [],
   "source": [
    "usr_train=X_train.groupby(\"客户ID\")\n",
    "usr_test=X_test.groupby(\"客户ID\")\n",
    "def recoder(od_dataset):\n",
    "    usr_item_dict={usr:[i for i in groups['衣服ID']]for usr, groups in list(od_dataset)}\n",
    "    return usr_item_dict\n",
    "usr_item_dict_train=recoder(usr_train)\n",
    "usr_item_dict_test=recoder(usr_test)\n",
    "itemid={item_ID[i]:i for i in item_ID}\n",
    "def rank(array,item):\n",
    "    x=pd.Series(array)    \n",
    "    y=pd.Series(item)\n",
    "    y=y.map(x)\n",
    "    y=dict(y)\n",
    "    return y    "
   ]
  },
  {
   "cell_type": "code",
   "execution_count": null,
   "metadata": {},
   "outputs": [],
   "source": []
  },
  {
   "cell_type": "code",
   "execution_count": 18,
   "metadata": {},
   "outputs": [],
   "source": [
    "recommender={}\n",
    "for i in user_ID:\n",
    "    x=rank(scores[user_ID[i]],item_ID)    \n",
    "    for item in usr_item_dict_train[i]:\n",
    "        try:\n",
    "            x.pop(item)\n",
    "        except:\n",
    "            pass                \n",
    "    recommender[i]=x\n",
    "for d in recommender:\n",
    "    a=recommender[d]\n",
    "    recommender[d]=sorted(a.items(),key=lambda a:a[1],reverse=True) "
   ]
  },
  {
   "cell_type": "code",
   "execution_count": 19,
   "metadata": {},
   "outputs": [],
   "source": [
    "hot_items=list(hot_items)"
   ]
  },
  {
   "cell_type": "code",
   "execution_count": 20,
   "metadata": {},
   "outputs": [
    {
     "name": "stdout",
     "output_type": "stream",
     "text": [
      "0.425511733360827\n"
     ]
    }
   ],
   "source": [
    "b=X_test.groupby('客户ID')\n",
    "sum=0\n",
    "fenzi=0\n",
    "for user,grouped in b:\n",
    "    num=len(grouped['衣服ID'])\n",
    "    #分母\n",
    "    if user not in recommender:\n",
    "        for item in grouped['衣服ID']:\n",
    "            for item in grouped['衣服ID']: \n",
    "                try:                    \n",
    "                    rank=(hot_items.index(item)+1)/len(hot_items)\n",
    "                    fenzi+=rank\n",
    "                except:\n",
    "                    num-=1\n",
    "    else:        \n",
    "        g=recommender[user]\n",
    "        g=[i for (i,j) in g]\n",
    "        for item in grouped['衣服ID']: \n",
    "            try:\n",
    "                rank=(g.index(item)+1)/len(g)\n",
    "                fenzi+=rank\n",
    "            except:                \n",
    "                num-=1\n",
    "    sum+=num\n",
    "rank_1=fenzi/sum\n",
    "print(rank_1)"
   ]
  },
  {
   "cell_type": "code",
   "execution_count": null,
   "metadata": {},
   "outputs": [],
   "source": []
  },
  {
   "cell_type": "code",
   "execution_count": 21,
   "metadata": {},
   "outputs": [
    {
     "ename": "NameError",
     "evalue": "name 'pymysql' is not defined",
     "output_type": "error",
     "traceback": [
      "\u001b[1;31m---------------------------------------------------------------------------\u001b[0m",
      "\u001b[1;31mNameError\u001b[0m                                 Traceback (most recent call last)",
      "\u001b[1;32m<ipython-input-21-a8c53ba9f646>\u001b[0m in \u001b[0;36m<module>\u001b[1;34m()\u001b[0m\n\u001b[0;32m      2\u001b[0m \u001b[1;33m\u001b[0m\u001b[0m\n\u001b[0;32m      3\u001b[0m \u001b[1;31m# 打开数据库连接\u001b[0m\u001b[1;33m\u001b[0m\u001b[1;33m\u001b[0m\u001b[0m\n\u001b[1;32m----> 4\u001b[1;33m \u001b[0mdb\u001b[0m \u001b[1;33m=\u001b[0m\u001b[0mpymysql\u001b[0m\u001b[1;33m.\u001b[0m\u001b[0mconnect\u001b[0m\u001b[1;33m(\u001b[0m\u001b[0mhost\u001b[0m\u001b[1;33m=\u001b[0m\u001b[1;34m'localhost'\u001b[0m\u001b[1;33m,\u001b[0m \u001b[0mport\u001b[0m\u001b[1;33m=\u001b[0m\u001b[1;36m3306\u001b[0m\u001b[1;33m,\u001b[0m \u001b[0muser\u001b[0m\u001b[1;33m=\u001b[0m\u001b[1;34m'root'\u001b[0m\u001b[1;33m,\u001b[0m \u001b[0mpasswd\u001b[0m\u001b[1;33m=\u001b[0m\u001b[1;34m'root'\u001b[0m\u001b[1;33m,\u001b[0m \u001b[0mdb\u001b[0m\u001b[1;33m=\u001b[0m\u001b[1;34m'weiyitech'\u001b[0m\u001b[1;33m)\u001b[0m\u001b[1;33m\u001b[0m\u001b[0m\n\u001b[0m\u001b[0;32m      5\u001b[0m \u001b[0mcursor\u001b[0m \u001b[1;33m=\u001b[0m \u001b[0mdb\u001b[0m\u001b[1;33m.\u001b[0m\u001b[0mcursor\u001b[0m\u001b[1;33m(\u001b[0m\u001b[1;33m)\u001b[0m\u001b[1;33m\u001b[0m\u001b[0m\n\u001b[0;32m      6\u001b[0m \u001b[1;32mfor\u001b[0m \u001b[0muser\u001b[0m \u001b[1;32min\u001b[0m \u001b[0mrecommender\u001b[0m\u001b[1;33m:\u001b[0m\u001b[1;33m\u001b[0m\u001b[0m\n",
      "\u001b[1;31mNameError\u001b[0m: name 'pymysql' is not defined"
     ]
    }
   ],
   "source": [
    "#import pymysql\n",
    "\n",
    "# 打开数据库连接\n",
    "db =pymysql.connect(host='localhost', port=3306, user='root', passwd='root', db='weiyitech')                     \n",
    "cursor = db.cursor()\n",
    "for user in recommender:\n",
    "    print(type(user))\n",
    "    x=recommender[user];\n",
    "    g=[i for (i,j) in x]\n",
    "    print(g[0])\n",
    "    # SQL 插入语句\n",
    "       # 执行sql语句\n",
    "    cursor.execute(\"INSERT INTO user_recommend(user_id, item1, item2, item3, item4,item5,item6,item7,item8,item9,item10) VALUES\\\n",
    "    (%s, %s, %s, %s, %s, %s, %s, %s,  %s, %s, %s )\",[user,g[0],g[1],g[2],g[3],g[4],g[5],g[6],g[7],g[8],g[9]])\n",
    "       # 提交到数据库执行\n",
    "    db.commit()\n",
    "\n",
    " # 关闭数据库连接\n",
    "db.close()"
   ]
  },
  {
   "cell_type": "code",
   "execution_count": null,
   "metadata": {},
   "outputs": [],
   "source": []
  },
  {
   "cell_type": "code",
   "execution_count": null,
   "metadata": {},
   "outputs": [],
   "source": []
  }
 ],
 "metadata": {
  "kernelspec": {
   "display_name": "Python 3",
   "language": "python",
   "name": "python3"
  },
  "language_info": {
   "codemirror_mode": {
    "name": "ipython",
    "version": 3
   },
   "file_extension": ".py",
   "mimetype": "text/x-python",
   "name": "python",
   "nbconvert_exporter": "python",
   "pygments_lexer": "ipython3",
   "version": "3.6.4"
  }
 },
 "nbformat": 4,
 "nbformat_minor": 2
}
